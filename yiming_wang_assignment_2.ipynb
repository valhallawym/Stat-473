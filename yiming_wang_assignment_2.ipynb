{
 "cells": [
  {
   "cell_type": "code",
   "execution_count": 1,
   "id": "3f6ecb75",
   "metadata": {},
   "outputs": [],
   "source": [
    "import numpy as np\n",
    "import matplotlib.pyplot as plt\n",
    "import scikitplot as skplt\n",
    "from imblearn.over_sampling import SMOTE\n",
    "\n",
    "import pandas as pd\n",
    "from sklearn.preprocessing import StandardScaler # stanardization\n",
    "from sklearn.preprocessing import LabelEncoder # Label --> Number\n",
    "from sklearn.preprocessing import minmax_scale\n",
    "\n",
    "from sklearn.model_selection import train_test_split, cross_val_predict # Training/Test split\n",
    "\n",
    "from sklearn.naive_bayes import GaussianNB\n",
    "from sklearn.naive_bayes import MultinomialNB\n",
    "from sklearn.naive_bayes import BernoulliNB\n",
    "\n",
    "from sklearn.linear_model import LogisticRegression #LR\n",
    "import statsmodels.api as sm\n",
    "\n",
    "from sklearn.tree import DecisionTreeClassifier # Decision Tree\n",
    "from sklearn.naive_bayes import MultinomialNB # Naive Bayes\n",
    "\n",
    "from sklearn.svm import LinearSVC, SVC #SVM\n",
    "\n",
    "from sklearn.metrics import confusion_matrix, classification_report\n",
    "from sklearn.metrics import accuracy_score, precision_score, recall_score, f1_score, make_scorer\n",
    "from sklearn.metrics import roc_curve"
   ]
  },
  {
   "cell_type": "markdown",
   "id": "284def90",
   "metadata": {},
   "source": [
    "### Question 1: Load the \"heart.csv\" dataset."
   ]
  },
  {
   "cell_type": "code",
   "execution_count": 2,
   "id": "a53d3263",
   "metadata": {
    "scrolled": true
   },
   "outputs": [
    {
     "data": {
      "text/html": [
       "<div>\n",
       "<style scoped>\n",
       "    .dataframe tbody tr th:only-of-type {\n",
       "        vertical-align: middle;\n",
       "    }\n",
       "\n",
       "    .dataframe tbody tr th {\n",
       "        vertical-align: top;\n",
       "    }\n",
       "\n",
       "    .dataframe thead th {\n",
       "        text-align: right;\n",
       "    }\n",
       "</style>\n",
       "<table border=\"1\" class=\"dataframe\">\n",
       "  <thead>\n",
       "    <tr style=\"text-align: right;\">\n",
       "      <th></th>\n",
       "      <th>HeartDiseaseorAttack</th>\n",
       "      <th>HighBP</th>\n",
       "      <th>HighChol</th>\n",
       "      <th>CholCheck</th>\n",
       "      <th>BMI</th>\n",
       "      <th>Smoker</th>\n",
       "      <th>Stroke</th>\n",
       "      <th>Diabetes</th>\n",
       "      <th>PhysActivity</th>\n",
       "      <th>Fruits</th>\n",
       "      <th>...</th>\n",
       "      <th>AnyHealthcare</th>\n",
       "      <th>NoDocbcCost</th>\n",
       "      <th>GenHlth</th>\n",
       "      <th>MentHlth</th>\n",
       "      <th>PhysHlth</th>\n",
       "      <th>DiffWalk</th>\n",
       "      <th>Sex</th>\n",
       "      <th>Age</th>\n",
       "      <th>Education</th>\n",
       "      <th>Income</th>\n",
       "    </tr>\n",
       "  </thead>\n",
       "  <tbody>\n",
       "    <tr>\n",
       "      <th>0</th>\n",
       "      <td>0.0</td>\n",
       "      <td>1.0</td>\n",
       "      <td>1.0</td>\n",
       "      <td>1.0</td>\n",
       "      <td>40.0</td>\n",
       "      <td>1.0</td>\n",
       "      <td>0.0</td>\n",
       "      <td>0.0</td>\n",
       "      <td>0.0</td>\n",
       "      <td>0.0</td>\n",
       "      <td>...</td>\n",
       "      <td>1.0</td>\n",
       "      <td>0.0</td>\n",
       "      <td>5.0</td>\n",
       "      <td>18.0</td>\n",
       "      <td>15.0</td>\n",
       "      <td>1.0</td>\n",
       "      <td>0.0</td>\n",
       "      <td>9.0</td>\n",
       "      <td>4.0</td>\n",
       "      <td>3.0</td>\n",
       "    </tr>\n",
       "    <tr>\n",
       "      <th>1</th>\n",
       "      <td>0.0</td>\n",
       "      <td>0.0</td>\n",
       "      <td>0.0</td>\n",
       "      <td>0.0</td>\n",
       "      <td>25.0</td>\n",
       "      <td>1.0</td>\n",
       "      <td>0.0</td>\n",
       "      <td>0.0</td>\n",
       "      <td>1.0</td>\n",
       "      <td>0.0</td>\n",
       "      <td>...</td>\n",
       "      <td>0.0</td>\n",
       "      <td>1.0</td>\n",
       "      <td>3.0</td>\n",
       "      <td>0.0</td>\n",
       "      <td>0.0</td>\n",
       "      <td>0.0</td>\n",
       "      <td>0.0</td>\n",
       "      <td>7.0</td>\n",
       "      <td>6.0</td>\n",
       "      <td>1.0</td>\n",
       "    </tr>\n",
       "    <tr>\n",
       "      <th>2</th>\n",
       "      <td>0.0</td>\n",
       "      <td>1.0</td>\n",
       "      <td>1.0</td>\n",
       "      <td>1.0</td>\n",
       "      <td>28.0</td>\n",
       "      <td>0.0</td>\n",
       "      <td>0.0</td>\n",
       "      <td>0.0</td>\n",
       "      <td>0.0</td>\n",
       "      <td>1.0</td>\n",
       "      <td>...</td>\n",
       "      <td>1.0</td>\n",
       "      <td>1.0</td>\n",
       "      <td>5.0</td>\n",
       "      <td>30.0</td>\n",
       "      <td>30.0</td>\n",
       "      <td>1.0</td>\n",
       "      <td>0.0</td>\n",
       "      <td>9.0</td>\n",
       "      <td>4.0</td>\n",
       "      <td>8.0</td>\n",
       "    </tr>\n",
       "    <tr>\n",
       "      <th>3</th>\n",
       "      <td>0.0</td>\n",
       "      <td>1.0</td>\n",
       "      <td>0.0</td>\n",
       "      <td>1.0</td>\n",
       "      <td>27.0</td>\n",
       "      <td>0.0</td>\n",
       "      <td>0.0</td>\n",
       "      <td>0.0</td>\n",
       "      <td>1.0</td>\n",
       "      <td>1.0</td>\n",
       "      <td>...</td>\n",
       "      <td>1.0</td>\n",
       "      <td>0.0</td>\n",
       "      <td>2.0</td>\n",
       "      <td>0.0</td>\n",
       "      <td>0.0</td>\n",
       "      <td>0.0</td>\n",
       "      <td>0.0</td>\n",
       "      <td>11.0</td>\n",
       "      <td>3.0</td>\n",
       "      <td>6.0</td>\n",
       "    </tr>\n",
       "    <tr>\n",
       "      <th>4</th>\n",
       "      <td>0.0</td>\n",
       "      <td>1.0</td>\n",
       "      <td>1.0</td>\n",
       "      <td>1.0</td>\n",
       "      <td>24.0</td>\n",
       "      <td>0.0</td>\n",
       "      <td>0.0</td>\n",
       "      <td>0.0</td>\n",
       "      <td>1.0</td>\n",
       "      <td>1.0</td>\n",
       "      <td>...</td>\n",
       "      <td>1.0</td>\n",
       "      <td>0.0</td>\n",
       "      <td>2.0</td>\n",
       "      <td>3.0</td>\n",
       "      <td>0.0</td>\n",
       "      <td>0.0</td>\n",
       "      <td>0.0</td>\n",
       "      <td>11.0</td>\n",
       "      <td>5.0</td>\n",
       "      <td>4.0</td>\n",
       "    </tr>\n",
       "  </tbody>\n",
       "</table>\n",
       "<p>5 rows × 22 columns</p>\n",
       "</div>"
      ],
      "text/plain": [
       "   HeartDiseaseorAttack  HighBP  HighChol  CholCheck   BMI  Smoker  Stroke  \\\n",
       "0                   0.0     1.0       1.0        1.0  40.0     1.0     0.0   \n",
       "1                   0.0     0.0       0.0        0.0  25.0     1.0     0.0   \n",
       "2                   0.0     1.0       1.0        1.0  28.0     0.0     0.0   \n",
       "3                   0.0     1.0       0.0        1.0  27.0     0.0     0.0   \n",
       "4                   0.0     1.0       1.0        1.0  24.0     0.0     0.0   \n",
       "\n",
       "   Diabetes  PhysActivity  Fruits  ...  AnyHealthcare  NoDocbcCost  GenHlth  \\\n",
       "0       0.0           0.0     0.0  ...            1.0          0.0      5.0   \n",
       "1       0.0           1.0     0.0  ...            0.0          1.0      3.0   \n",
       "2       0.0           0.0     1.0  ...            1.0          1.0      5.0   \n",
       "3       0.0           1.0     1.0  ...            1.0          0.0      2.0   \n",
       "4       0.0           1.0     1.0  ...            1.0          0.0      2.0   \n",
       "\n",
       "   MentHlth  PhysHlth  DiffWalk  Sex   Age  Education  Income  \n",
       "0      18.0      15.0       1.0  0.0   9.0        4.0     3.0  \n",
       "1       0.0       0.0       0.0  0.0   7.0        6.0     1.0  \n",
       "2      30.0      30.0       1.0  0.0   9.0        4.0     8.0  \n",
       "3       0.0       0.0       0.0  0.0  11.0        3.0     6.0  \n",
       "4       3.0       0.0       0.0  0.0  11.0        5.0     4.0  \n",
       "\n",
       "[5 rows x 22 columns]"
      ]
     },
     "execution_count": 2,
     "metadata": {},
     "output_type": "execute_result"
    }
   ],
   "source": [
    "# Load the data\n",
    "heart_df = pd.read_csv('heart.csv')\n",
    "heart_df.head()"
   ]
  },
  {
   "cell_type": "markdown",
   "id": "a145e3b9",
   "metadata": {},
   "source": [
    "### Question 2: Split features into input and output."
   ]
  },
  {
   "cell_type": "code",
   "execution_count": 3,
   "id": "5dfdddb7",
   "metadata": {},
   "outputs": [
    {
     "data": {
      "text/html": [
       "<div>\n",
       "<style scoped>\n",
       "    .dataframe tbody tr th:only-of-type {\n",
       "        vertical-align: middle;\n",
       "    }\n",
       "\n",
       "    .dataframe tbody tr th {\n",
       "        vertical-align: top;\n",
       "    }\n",
       "\n",
       "    .dataframe thead th {\n",
       "        text-align: right;\n",
       "    }\n",
       "</style>\n",
       "<table border=\"1\" class=\"dataframe\">\n",
       "  <thead>\n",
       "    <tr style=\"text-align: right;\">\n",
       "      <th></th>\n",
       "      <th>BMI</th>\n",
       "      <th>Smoker</th>\n",
       "      <th>MentHlth</th>\n",
       "      <th>Age</th>\n",
       "      <th>Education</th>\n",
       "      <th>Income</th>\n",
       "    </tr>\n",
       "  </thead>\n",
       "  <tbody>\n",
       "    <tr>\n",
       "      <th>0</th>\n",
       "      <td>40.0</td>\n",
       "      <td>1.0</td>\n",
       "      <td>18.0</td>\n",
       "      <td>9.0</td>\n",
       "      <td>4.0</td>\n",
       "      <td>3.0</td>\n",
       "    </tr>\n",
       "    <tr>\n",
       "      <th>1</th>\n",
       "      <td>25.0</td>\n",
       "      <td>1.0</td>\n",
       "      <td>0.0</td>\n",
       "      <td>7.0</td>\n",
       "      <td>6.0</td>\n",
       "      <td>1.0</td>\n",
       "    </tr>\n",
       "    <tr>\n",
       "      <th>2</th>\n",
       "      <td>28.0</td>\n",
       "      <td>0.0</td>\n",
       "      <td>30.0</td>\n",
       "      <td>9.0</td>\n",
       "      <td>4.0</td>\n",
       "      <td>8.0</td>\n",
       "    </tr>\n",
       "    <tr>\n",
       "      <th>3</th>\n",
       "      <td>27.0</td>\n",
       "      <td>0.0</td>\n",
       "      <td>0.0</td>\n",
       "      <td>11.0</td>\n",
       "      <td>3.0</td>\n",
       "      <td>6.0</td>\n",
       "    </tr>\n",
       "    <tr>\n",
       "      <th>4</th>\n",
       "      <td>24.0</td>\n",
       "      <td>0.0</td>\n",
       "      <td>3.0</td>\n",
       "      <td>11.0</td>\n",
       "      <td>5.0</td>\n",
       "      <td>4.0</td>\n",
       "    </tr>\n",
       "  </tbody>\n",
       "</table>\n",
       "</div>"
      ],
      "text/plain": [
       "    BMI  Smoker  MentHlth   Age  Education  Income\n",
       "0  40.0     1.0      18.0   9.0        4.0     3.0\n",
       "1  25.0     1.0       0.0   7.0        6.0     1.0\n",
       "2  28.0     0.0      30.0   9.0        4.0     8.0\n",
       "3  27.0     0.0       0.0  11.0        3.0     6.0\n",
       "4  24.0     0.0       3.0  11.0        5.0     4.0"
      ]
     },
     "execution_count": 3,
     "metadata": {},
     "output_type": "execute_result"
    }
   ],
   "source": [
    "# Input\n",
    "X = heart_df[['BMI', 'Smoker', 'MentHlth', 'Age', 'Education', 'Income']]\n",
    "X.head()"
   ]
  },
  {
   "cell_type": "code",
   "execution_count": 4,
   "id": "00df96c4",
   "metadata": {},
   "outputs": [
    {
     "data": {
      "text/plain": [
       "0    0.0\n",
       "1    0.0\n",
       "2    0.0\n",
       "3    0.0\n",
       "4    0.0\n",
       "Name: HeartDiseaseorAttack, dtype: float64"
      ]
     },
     "execution_count": 4,
     "metadata": {},
     "output_type": "execute_result"
    }
   ],
   "source": [
    "# Output \n",
    "y = heart_df['HeartDiseaseorAttack']\n",
    "y.head()"
   ]
  },
  {
   "cell_type": "markdown",
   "id": "3dccf517",
   "metadata": {},
   "source": [
    "### Question 3: Split data into training and test data"
   ]
  },
  {
   "cell_type": "code",
   "execution_count": 5,
   "id": "db5145a0",
   "metadata": {},
   "outputs": [],
   "source": [
    "# Split training and test data\n",
    "X_train, X_test, y_train, y_test = train_test_split(X, y, test_size=0.2, random_state=1, stratify=y)"
   ]
  },
  {
   "cell_type": "markdown",
   "id": "ad65dd25",
   "metadata": {},
   "source": [
    "### Question 4: Use Naïve Bayes, draw a confusion matrix and show the f1-score"
   ]
  },
  {
   "cell_type": "code",
   "execution_count": 6,
   "id": "51bf17bc",
   "metadata": {},
   "outputs": [
    {
     "name": "stdout",
     "output_type": "stream",
     "text": [
      "         Predict[0]  Predict[1]\n",
      "True[0]       41380        4577\n",
      "True[1]        3899         880\n",
      "accuracy: 0.833\n",
      "precision: 0.161\n",
      "recall: 0.184\n",
      "F1: 0.172\n"
     ]
    }
   ],
   "source": [
    "# Processing Naive Bayes using default option with alpha = 1\n",
    "mnb = MultinomialNB(alpha=1.0)\n",
    "mnb.fit(X_train, y_train)\n",
    "y_pred_NB = mnb.predict(X_test)\n",
    "\n",
    "# Construct the confusion matrix\n",
    "confmat_NB = pd.DataFrame(confusion_matrix(y_test, y_pred_NB),\n",
    "                      index=['True[0]','True[1]'],\n",
    "                      columns=['Predict[0]', 'Predict[1]'])\n",
    "print(confmat_NB)\n",
    "print('accuracy: %.3f' % accuracy_score(y_test, y_pred_NB))\n",
    "print('precision: %.3f' % precision_score(y_true=y_test, y_pred=y_pred_NB))\n",
    "print('recall: %.3f' % recall_score(y_true=y_test, y_pred=y_pred_NB))\n",
    "print('F1: %.3f' % f1_score(y_true=y_test, y_pred=y_pred_NB))"
   ]
  },
  {
   "cell_type": "markdown",
   "id": "675cf474",
   "metadata": {},
   "source": [
    "### Question 5: Use Logistic Regression, draw a confusion matrix and show the f1-score"
   ]
  },
  {
   "cell_type": "code",
   "execution_count": 7,
   "id": "82fa4c98",
   "metadata": {},
   "outputs": [
    {
     "name": "stdout",
     "output_type": "stream",
     "text": [
      "         Predict[0]  Predict[1]\n",
      "True[0]       45912          45\n",
      "True[1]        4745          34\n",
      "accuracy: 0.906\n",
      "precision: 0.430\n",
      "recall: 0.007\n",
      "F1: 0.014\n"
     ]
    }
   ],
   "source": [
    "# Processing Logistic Regression using default option\n",
    "logistic = LogisticRegression()\n",
    "logistic.fit(X_train, y_train)\n",
    "y_pred_LR = logistic.predict(X_test)\n",
    "\n",
    "# Construct the confusion matrix\n",
    "confmat_LR = pd.DataFrame(confusion_matrix(y_test, y_pred_LR),\n",
    "                      index=['True[0]','True[1]'],\n",
    "                      columns=['Predict[0]', 'Predict[1]'])\n",
    "print(confmat_LR)\n",
    "print('accuracy: %.3f' % accuracy_score(y_test, y_pred_LR))\n",
    "print('precision: %.3f' % precision_score(y_true=y_test, y_pred=y_pred_LR))\n",
    "print('recall: %.3f' % recall_score(y_true=y_test, y_pred=y_pred_LR))\n",
    "print('F1: %.3f' % f1_score(y_true=y_test, y_pred=y_pred_LR))"
   ]
  },
  {
   "cell_type": "markdown",
   "id": "cdaaae0c",
   "metadata": {},
   "source": [
    "### Question 6: Use SVM, draw a confusion matrix and show the f1-score"
   ]
  },
  {
   "cell_type": "code",
   "execution_count": 8,
   "id": "3857a96c",
   "metadata": {},
   "outputs": [
    {
     "name": "stdout",
     "output_type": "stream",
     "text": [
      "         Predict[0]  Predict[1]\n",
      "True[0]       45957           0\n",
      "True[1]        4779           0\n",
      "accuracy: 0.906\n",
      "precision: 0.000\n",
      "recall: 0.000\n",
      "F1: 0.000\n"
     ]
    }
   ],
   "source": [
    "# Processing SVM using default option\n",
    "svm = LinearSVC(dual = False)\n",
    "svm.fit(X_train, y_train)\n",
    "y_pred_SVM = svm.predict(X_test)\n",
    "\n",
    "# Construct the confusion matrix\n",
    "confmat_SVM = pd.DataFrame(confusion_matrix(y_test, y_pred_SVM),\n",
    "                      index=['True[0]','True[1]'],\n",
    "                      columns=['Predict[0]', 'Predict[1]'])\n",
    "print(confmat_SVM)\n",
    "print('accuracy: %.3f' % accuracy_score(y_test, y_pred_SVM))\n",
    "print('precision: %.3f' % precision_score(y_true=y_test, y_pred=y_pred_SVM, zero_division=0))\n",
    "print('recall: %.3f' % recall_score(y_true=y_test, y_pred=y_pred_SVM, zero_division=0))\n",
    "print('F1: %.3f' % f1_score(y_true=y_test, y_pred=y_pred_SVM, zero_division=0))"
   ]
  },
  {
   "cell_type": "markdown",
   "id": "9d7631a6",
   "metadata": {},
   "source": [
    "### Question 7: Using SMOTE and repeat the process"
   ]
  },
  {
   "cell_type": "code",
   "execution_count": 9,
   "id": "78f36b82",
   "metadata": {},
   "outputs": [
    {
     "data": {
      "text/plain": [
       "HeartDiseaseorAttack\n",
       "0.0    183830\n",
       "1.0    183830\n",
       "Name: count, dtype: int64"
      ]
     },
     "execution_count": 9,
     "metadata": {},
     "output_type": "execute_result"
    }
   ],
   "source": [
    "smote = SMOTE(random_state=1)\n",
    "X_train_smote, y_train_smote = smote.fit_resample(X_train, y_train)\n",
    "y_train_smote.value_counts()"
   ]
  },
  {
   "cell_type": "code",
   "execution_count": 10,
   "id": "886f8c41",
   "metadata": {},
   "outputs": [
    {
     "name": "stdout",
     "output_type": "stream",
     "text": [
      "         Predict[0]  Predict[1]\n",
      "True[0]       36962        8995\n",
      "True[1]        3039        1740\n",
      "accuracy: 0.763\n",
      "precision: 0.162\n",
      "recall: 0.364\n",
      "F1: 0.224\n"
     ]
    }
   ],
   "source": [
    "# Naive Bayes after SMOTE\n",
    "mnb_smote = MultinomialNB(alpha=1.0)\n",
    "mnb_smote.fit(X_train_smote, y_train_smote)\n",
    "y_pred_NB_smote = mnb_smote.predict(X_test)\n",
    "confmat_NB_smote = pd.DataFrame(confusion_matrix(y_test, y_pred_NB_smote),\n",
    "                      index=['True[0]','True[1]'],\n",
    "                      columns=['Predict[0]', 'Predict[1]'])\n",
    "print(confmat_NB_smote)\n",
    "print('accuracy: %.3f' % accuracy_score(y_test, y_pred_NB_smote))\n",
    "print('precision: %.3f' % precision_score(y_true=y_test, y_pred=y_pred_NB_smote))\n",
    "print('recall: %.3f' % recall_score(y_true=y_test, y_pred=y_pred_NB_smote))\n",
    "print('F1: %.3f' % f1_score(y_true=y_test, y_pred=y_pred_NB_smote))"
   ]
  },
  {
   "cell_type": "code",
   "execution_count": 11,
   "id": "7c065dd5",
   "metadata": {},
   "outputs": [
    {
     "name": "stdout",
     "output_type": "stream",
     "text": [
      "         Predict[0]  Predict[1]\n",
      "True[0]       30643       15314\n",
      "True[1]        1255        3524\n",
      "accuracy: 0.673\n",
      "precision: 0.187\n",
      "recall: 0.737\n",
      "F1: 0.298\n"
     ]
    }
   ],
   "source": [
    "# Logistic Regression after SMOTE\n",
    "logistic_smote = LogisticRegression()\n",
    "logistic_smote.fit(X_train_smote, y_train_smote)\n",
    "y_pred_LR_smote = logistic_smote.predict(X_test)\n",
    "confmat_LR_smote = pd.DataFrame(confusion_matrix(y_test, y_pred_LR_smote),\n",
    "                      index=['True[0]','True[1]'],\n",
    "                      columns=['Predict[0]', 'Predict[1]'])\n",
    "print(confmat_LR_smote)\n",
    "print('accuracy: %.3f' % accuracy_score(y_test, y_pred_LR_smote))\n",
    "print('precision: %.3f' % precision_score(y_true=y_test, y_pred=y_pred_LR_smote))\n",
    "print('recall: %.3f' % recall_score(y_true=y_test, y_pred=y_pred_LR_smote))\n",
    "print('F1: %.3f' % f1_score(y_true=y_test, y_pred=y_pred_LR_smote))"
   ]
  },
  {
   "cell_type": "code",
   "execution_count": 12,
   "id": "63ed26a3",
   "metadata": {},
   "outputs": [
    {
     "name": "stdout",
     "output_type": "stream",
     "text": [
      "         Predict[0]  Predict[1]\n",
      "True[0]       30168       15789\n",
      "True[1]        1199        3580\n",
      "accuracy: 0.665\n",
      "precision: 0.185\n",
      "recall: 0.749\n",
      "F1: 0.297\n"
     ]
    }
   ],
   "source": [
    "# SVM after SMOTE\n",
    "svm_smote = LinearSVC(dual = False)\n",
    "svm_smote.fit(X_train_smote, y_train_smote)\n",
    "y_pred_SVM_smote = svm_smote.predict(X_test)\n",
    "confmat_SVM_smote = pd.DataFrame(confusion_matrix(y_test, y_pred_SVM_smote),\n",
    "                      index=['True[0]','True[1]'],\n",
    "                      columns=['Predict[0]', 'Predict[1]'])\n",
    "print(confmat_SVM_smote)\n",
    "print('accuracy: %.3f' % accuracy_score(y_test, y_pred_SVM_smote))\n",
    "print('precision: %.3f' % precision_score(y_true=y_test, y_pred=y_pred_SVM_smote))\n",
    "print('recall: %.3f' % recall_score(y_true=y_test, y_pred=y_pred_SVM_smote))\n",
    "print('F1: %.3f' % f1_score(y_true=y_test, y_pred=y_pred_SVM_smote))"
   ]
  },
  {
   "cell_type": "markdown",
   "id": "4abdffb7",
   "metadata": {},
   "source": [
    "### Problem 8: Choosing Logistic Regression, Improve the model"
   ]
  },
  {
   "cell_type": "code",
   "execution_count": 13,
   "id": "986c9787",
   "metadata": {},
   "outputs": [
    {
     "name": "stdout",
     "output_type": "stream",
     "text": [
      "         Predict[0]  Predict[1]\n",
      "True[0]       34363       11594\n",
      "True[1]        1710        3069\n",
      "accuracy: 0.738\n",
      "precision: 0.209\n",
      "recall: 0.642\n",
      "F1: 0.316\n"
     ]
    }
   ],
   "source": [
    "logistic_1 = LogisticRegression(solver = 'saga', penalty = 'elasticnet', l1_ratio= 0.5, max_iter = 10000, class_weight = {0: 1, 1:7.2})\n",
    "logistic_1.fit(X_train, y_train)\n",
    "y_pred_LR_1 = logistic_1.predict(X_test)\n",
    "confmat_LR_1 = pd.DataFrame(confusion_matrix(y_test, y_pred_LR_1),\n",
    "                      index=['True[0]','True[1]'],\n",
    "                      columns=['Predict[0]', 'Predict[1]'])\n",
    "print(confmat_LR_1)\n",
    "print('accuracy: %.3f' % accuracy_score(y_test, y_pred_LR_1))\n",
    "print('precision: %.3f' % precision_score(y_true=y_test, y_pred=y_pred_LR_1))\n",
    "print('recall: %.3f' % recall_score(y_true=y_test, y_pred=y_pred_LR_1))\n",
    "print('F1: %.3f' % f1_score(y_true=y_test, y_pred=y_pred_LR_1))"
   ]
  },
  {
   "cell_type": "code",
   "execution_count": null,
   "id": "45b12367",
   "metadata": {},
   "outputs": [],
   "source": []
  }
 ],
 "metadata": {
  "kernelspec": {
   "display_name": "Python 3 (ipykernel)",
   "language": "python",
   "name": "python3"
  },
  "language_info": {
   "codemirror_mode": {
    "name": "ipython",
    "version": 3
   },
   "file_extension": ".py",
   "mimetype": "text/x-python",
   "name": "python",
   "nbconvert_exporter": "python",
   "pygments_lexer": "ipython3",
   "version": "3.11.5"
  }
 },
 "nbformat": 4,
 "nbformat_minor": 5
}
